{
 "cells": [
  {
   "cell_type": "markdown",
   "metadata": {},
   "source": [
    "## 1. Mengimport packages yang dibutuhkan"
   ]
  },
  {
   "cell_type": "code",
   "execution_count": 5,
   "metadata": {},
   "outputs": [],
   "source": [
    "import pandas as pd\n",
    "import numpy as np\n",
    "from sklearn.ensemble import RandomForestClassifier\n",
    "from sklearn.ensemble import GradientBoostingClassifier\n",
    "from sklearn.tree import DecisionTreeClassifier\n",
    "from sklearn.model_selection import train_test_split\n",
    "from sklearn.model_selection import cross_val_score, KFold\n",
    "import matplotlib.pyplot as plt\n",
    "import statistics as st\n",
    "from sklearn.metrics import confusion_matrix\n",
    "import seaborn as sns\n",
    "from sklearn.metrics import confusion_matrix, accuracy_score, precision_score, recall_score, f1_score, roc_curve\n",
    "\n"
   ]
  },
  {
   "cell_type": "markdown",
   "metadata": {},
   "source": [
    "## 2. Mengimport excel ke dalam Notebook serta memberi kategori pada rumah yang mahal dan murah"
   ]
  },
  {
   "cell_type": "code",
   "execution_count": 6,
   "metadata": {},
   "outputs": [],
   "source": [
    "#Mengimport data\n",
    "df = pd.read_excel('/Users/ryansfolder/Downloads/nuzulul.xlsx')"
   ]
  },
  {
   "cell_type": "code",
   "execution_count": 8,
   "metadata": {},
   "outputs": [
    {
     "name": "stdout",
     "output_type": "stream",
     "text": [
      "Median adalah: 163000.0\n",
      "180921.19589041095\n",
      "140000\n"
     ]
    },
    {
     "data": {
      "text/html": [
       "<div>\n",
       "<style scoped>\n",
       "    .dataframe tbody tr th:only-of-type {\n",
       "        vertical-align: middle;\n",
       "    }\n",
       "\n",
       "    .dataframe tbody tr th {\n",
       "        vertical-align: top;\n",
       "    }\n",
       "\n",
       "    .dataframe thead th {\n",
       "        text-align: right;\n",
       "    }\n",
       "</style>\n",
       "<table border=\"1\" class=\"dataframe\">\n",
       "  <thead>\n",
       "    <tr style=\"text-align: right;\">\n",
       "      <th></th>\n",
       "      <th>OverallQual</th>\n",
       "      <th>TotalBsmtSF</th>\n",
       "      <th>GrLivArea</th>\n",
       "      <th>GarageCars</th>\n",
       "      <th>SalePrice</th>\n",
       "      <th>Category</th>\n",
       "    </tr>\n",
       "  </thead>\n",
       "  <tbody>\n",
       "    <tr>\n",
       "      <th>0</th>\n",
       "      <td>7</td>\n",
       "      <td>856</td>\n",
       "      <td>1710</td>\n",
       "      <td>2</td>\n",
       "      <td>208500</td>\n",
       "      <td>1</td>\n",
       "    </tr>\n",
       "    <tr>\n",
       "      <th>1</th>\n",
       "      <td>6</td>\n",
       "      <td>1262</td>\n",
       "      <td>1262</td>\n",
       "      <td>2</td>\n",
       "      <td>181500</td>\n",
       "      <td>1</td>\n",
       "    </tr>\n",
       "    <tr>\n",
       "      <th>2</th>\n",
       "      <td>7</td>\n",
       "      <td>920</td>\n",
       "      <td>1786</td>\n",
       "      <td>2</td>\n",
       "      <td>223500</td>\n",
       "      <td>1</td>\n",
       "    </tr>\n",
       "    <tr>\n",
       "      <th>3</th>\n",
       "      <td>7</td>\n",
       "      <td>756</td>\n",
       "      <td>1717</td>\n",
       "      <td>3</td>\n",
       "      <td>140000</td>\n",
       "      <td>0</td>\n",
       "    </tr>\n",
       "    <tr>\n",
       "      <th>4</th>\n",
       "      <td>8</td>\n",
       "      <td>1145</td>\n",
       "      <td>2198</td>\n",
       "      <td>3</td>\n",
       "      <td>250000</td>\n",
       "      <td>1</td>\n",
       "    </tr>\n",
       "    <tr>\n",
       "      <th>...</th>\n",
       "      <td>...</td>\n",
       "      <td>...</td>\n",
       "      <td>...</td>\n",
       "      <td>...</td>\n",
       "      <td>...</td>\n",
       "      <td>...</td>\n",
       "    </tr>\n",
       "    <tr>\n",
       "      <th>1455</th>\n",
       "      <td>6</td>\n",
       "      <td>953</td>\n",
       "      <td>1647</td>\n",
       "      <td>2</td>\n",
       "      <td>175000</td>\n",
       "      <td>1</td>\n",
       "    </tr>\n",
       "    <tr>\n",
       "      <th>1456</th>\n",
       "      <td>6</td>\n",
       "      <td>1542</td>\n",
       "      <td>2073</td>\n",
       "      <td>2</td>\n",
       "      <td>210000</td>\n",
       "      <td>1</td>\n",
       "    </tr>\n",
       "    <tr>\n",
       "      <th>1457</th>\n",
       "      <td>7</td>\n",
       "      <td>1152</td>\n",
       "      <td>2340</td>\n",
       "      <td>1</td>\n",
       "      <td>266500</td>\n",
       "      <td>1</td>\n",
       "    </tr>\n",
       "    <tr>\n",
       "      <th>1458</th>\n",
       "      <td>5</td>\n",
       "      <td>1078</td>\n",
       "      <td>1078</td>\n",
       "      <td>1</td>\n",
       "      <td>142125</td>\n",
       "      <td>0</td>\n",
       "    </tr>\n",
       "    <tr>\n",
       "      <th>1459</th>\n",
       "      <td>5</td>\n",
       "      <td>1256</td>\n",
       "      <td>1256</td>\n",
       "      <td>1</td>\n",
       "      <td>147500</td>\n",
       "      <td>0</td>\n",
       "    </tr>\n",
       "  </tbody>\n",
       "</table>\n",
       "<p>1460 rows × 6 columns</p>\n",
       "</div>"
      ],
      "text/plain": [
       "      OverallQual  TotalBsmtSF  GrLivArea  GarageCars  SalePrice  Category\n",
       "0               7          856       1710           2     208500         1\n",
       "1               6         1262       1262           2     181500         1\n",
       "2               7          920       1786           2     223500         1\n",
       "3               7          756       1717           3     140000         0\n",
       "4               8         1145       2198           3     250000         1\n",
       "...           ...          ...        ...         ...        ...       ...\n",
       "1455            6          953       1647           2     175000         1\n",
       "1456            6         1542       2073           2     210000         1\n",
       "1457            7         1152       2340           1     266500         1\n",
       "1458            5         1078       1078           1     142125         0\n",
       "1459            5         1256       1256           1     147500         0\n",
       "\n",
       "[1460 rows x 6 columns]"
      ]
     },
     "execution_count": 8,
     "metadata": {},
     "output_type": "execute_result"
    }
   ],
   "source": [
    "#Labeling dengan Median\n",
    "median= np.median(df[\"SalePrice\"])\n",
    "mean = np.mean(df[\"SalePrice\"])\n",
    "mode = st.mode(df[\"SalePrice\"])\n",
    "print(f\"Median adalah: {median}\")\n",
    "temporary = []\n",
    "x = 0\n",
    "for i in df[\"SalePrice\"]:\n",
    "    if i < median:\n",
    "        temporary.append(0)\n",
    "    else:\n",
    "        temporary.append(1)\n",
    "\n",
    "df[\"Category\"] = temporary\n",
    "\n",
    "df\n",
    "        "
   ]
  },
  {
   "cell_type": "markdown",
   "metadata": {},
   "source": [
    "## 3. Melakukan prosedur Random Forest dan menentukan akurasi"
   ]
  },
  {
   "cell_type": "code",
   "execution_count": null,
   "metadata": {},
   "outputs": [
    {
     "name": "stdout",
     "output_type": "stream",
     "text": [
      "     0    1\n",
      "0  210   23\n",
      "1   15  190\n"
     ]
    }
   ],
   "source": [
    "#Memilah variabel X dan Y\n",
    "to_drop = [\"Category\", \"SalePrice\"]\n",
    "X = df.drop(columns=to_drop, axis=1)\n",
    "y = df[\"Category\"]\n",
    "\n",
    "#Membuat training dan testing\n",
    "\n",
    "X_train,X_test,y_train,y_test = train_test_split(X, y, test_size=0.3, random_state=42)\n",
    "\n",
    "#fit the data\n",
    "rf = RandomForestClassifier()\n",
    "rf.fit(X_train,y_train)\n",
    "\n",
    "y_pred = rf.predict(X_test)\n",
    "\n",
    "#Menghitung confusion matrix\n",
    "\n",
    "conmat = confusion_matrix(y_test, y_pred)\n",
    "\n",
    "value = np.mat(conmat)\n",
    "classname = list(set(y_train))\n",
    "df_cm = pd.DataFrame( value, index=classname, columns=classname)\n",
    "\n",
    "print(df_cm)\n",
    "\n"
   ]
  },
  {
   "cell_type": "code",
   "execution_count": null,
   "metadata": {},
   "outputs": [
    {
     "name": "stdout",
     "output_type": "stream",
     "text": [
      "Accuracy: 0.91324200913242\n",
      "Precision: 0.892018779342723\n",
      "Recall (Sensitivity): 0.926829268292683\n",
      "F1-Score: 0.9090909090909092\n",
      "False Positive Rate (FPR): [0.         0.09871245 1.        ]\n",
      "False Negative Rate (Specificity): [1.         0.90128755 0.        ]\n"
     ]
    }
   ],
   "source": [
    "# Menghitung metrik akurasi\n",
    "accuracy = accuracy_score(y_test, y_pred)\n",
    "precision = precision_score(y_test, y_pred, average='binary')  # or 'macro' for multiclass\n",
    "recall = recall_score(y_test, y_pred, average='binary')  # or 'macro' for multiclass\n",
    "f1 = f1_score(y_test, y_pred, average='binary')  # or 'macro' for multiclass\n",
    "\n",
    "fpr, tpr, thresholds = roc_curve(y_test, y_pred, pos_label=1)\n",
    "\n",
    "print(f\"Accuracy: {accuracy}\")\n",
    "print(f\"Precision: {precision}\")\n",
    "print(f\"Recall (Sensitivity): {recall}\")\n",
    "print(f\"F1-Score: {f1}\")\n",
    "print(f\"False Positive Rate (FPR): {fpr}\")\n",
    "print(f\"False Negative Rate (Specificity): {1-fpr}\")\n"
   ]
  },
  {
   "cell_type": "code",
   "execution_count": null,
   "metadata": {},
   "outputs": [
    {
     "data": {
      "image/png": "[encoded data removed]",
      "text/plain": [
       "<Figure size 640x480 with 2 Axes>"
      ]
     },
     "metadata": {},
     "output_type": "display_data"
    }
   ],
   "source": [
    "#Plotting confusion matrix\n",
    "plt.figure()\n",
    "\n",
    "heatmap = sns.heatmap(df_cm, annot=True, cmap=\"Blues\", fmt = ' .0f')\n",
    "heatmap.yaxis.set_ticklabels(heatmap.yaxis.get_ticklabels(), rotation=0, ha='right')\n",
    "heatmap.xaxis.set_ticklabels(heatmap.xaxis.get_ticklabels(), rotation=45, ha='right')\n",
    "\n",
    "plt.ylabel('True label')\n",
    "plt.xlabel('Predicted label')\n",
    "plt.title('SalePrice Random Forest Model Results')\n",
    "\n",
    "plt.show()    \n",
    "\n"
   ]
  },
  {
   "cell_type": "code",
   "execution_count": null,
   "metadata": {},
   "outputs": [
    {
     "name": "stdout",
     "output_type": "stream",
     "text": [
      "Cross-Validation Scores: [0.89383562 0.93493151 0.88013699 0.85273973 0.88356164]\n",
      "Average Cross-Validation score : 0.8890410958904109\n",
      "Hasil K-fold Cross-Validation: [0.92123288 0.89041096 0.87328767 0.8869863  0.89383562]\n",
      "Rata-rata Akurasi: 0.8931506849315068\n"
     ]
    }
   ],
   "source": [
    "#Cross-validation test\n",
    "scores = cross_val_score(rf, X, y, cv=5)\n",
    "print(\"Cross-Validation Scores:\", scores)\n",
    "print(\"Average Cross-Validation score :\", np.mean(scores))\n",
    "\n",
    "#KFold Validation Test\n",
    "num_folds = 5\n",
    "kfold = KFold(n_splits=num_folds, shuffle=True, random_state=42)\n",
    "\n",
    "results = cross_val_score(rf, X, y, cv=kfold)\n",
    "\n",
    "\n",
    "print(f'Hasil K-fold Cross-Validation: {results}')\n",
    "print(f'Rata-rata Akurasi: {results.mean()}')\n",
    "\n"
   ]
  },
  {
   "cell_type": "markdown",
   "metadata": {},
   "source": [
    "## 4. Melakukan prosedur Gradient Boosting dan menentukan akurasin"
   ]
  },
  {
   "cell_type": "code",
   "execution_count": null,
   "metadata": {},
   "outputs": [
    {
     "name": "stdout",
     "output_type": "stream",
     "text": [
      "     0    1\n",
      "0  209   24\n",
      "1   13  192\n"
     ]
    }
   ],
   "source": [
    "#Memilah variabel X dan Y\n",
    "to_drop = [\"Category\", \"SalePrice\"]\n",
    "X = df.drop(columns=to_drop, axis=1)\n",
    "y = df[\"Category\"]\n",
    "\n",
    "#Membuat training dan testing\n",
    "X_train,X_test,y_train,y_test = train_test_split(X, y, test_size=0.3, random_state=42)\n",
    "\n",
    "gb = GradientBoostingClassifier()\n",
    "gb.fit(X_train,y_train)\n",
    "\n",
    "y_pred = gb.predict(X_test)\n",
    "\n",
    "#Membuat confusion matrix\n",
    "\n",
    "conmat = confusion_matrix(y_test, y_pred)\n",
    "\n",
    "value = np.mat(conmat)\n",
    "classname = list(set(y_train))\n",
    "df_cm = pd.DataFrame( value, index=classname, columns=classname)\n",
    "\n",
    "print(df_cm)\n"
   ]
  },
  {
   "cell_type": "code",
   "execution_count": null,
   "metadata": {},
   "outputs": [
    {
     "name": "stdout",
     "output_type": "stream",
     "text": [
      "Accuracy: 0.9155251141552512\n",
      "Precision: 0.8888888888888888\n",
      "Recall (Sensitivity): 0.9365853658536586\n",
      "F1-Score: 0.9121140142517815\n",
      "False Positive Rate (FPR): [0.         0.10300429 1.        ]\n",
      "False Negative Rate (Specificity): [1.         0.89699571 0.        ]\n"
     ]
    }
   ],
   "source": [
    "# Menghitung akurasi\n",
    "accuracy = accuracy_score(y_test, y_pred)\n",
    "precision = precision_score(y_test, y_pred, average='binary')  # or 'macro' for multiclass\n",
    "recall = recall_score(y_test, y_pred, average='binary')  # or 'macro' for multiclass\n",
    "f1 = f1_score(y_test, y_pred, average='binary')  # or 'macro' for multiclass\n",
    "\n",
    "fpr, tpr, thresholds = roc_curve(y_test, y_pred, pos_label=1)\n",
    "\n",
    "print(f\"Accuracy: {accuracy}\")\n",
    "print(f\"Precision: {precision}\")\n",
    "print(f\"Recall (Sensitivity): {recall}\")\n",
    "print(f\"F1-Score: {f1}\")\n",
    "print(f\"False Positive Rate (FPR): {fpr}\")\n",
    "print(f\"False Negative Rate (Specificity): {1-fpr}\")\n"
   ]
  },
  {
   "cell_type": "code",
   "execution_count": null,
   "metadata": {},
   "outputs": [
    {
     "data": {
      "image/png": "[encoded data removed]",
      "text/plain": [
       "<Figure size 640x480 with 2 Axes>"
      ]
     },
     "metadata": {},
     "output_type": "display_data"
    }
   ],
   "source": [
    "#Plotting confusion matrix\n",
    "plt.figure()\n",
    "\n",
    "heatmap = sns.heatmap(df_cm, annot=True, cmap=\"Blues\", fmt = ' .0f')\n",
    "heatmap.yaxis.set_ticklabels(heatmap.yaxis.get_ticklabels(), rotation=0, ha='right')\n",
    "heatmap.xaxis.set_ticklabels(heatmap.xaxis.get_ticklabels(), rotation=45, ha='right')\n",
    "\n",
    "plt.ylabel('True label')\n",
    "plt.xlabel('Predicted label')\n",
    "plt.title('SalePrice Gradient Boosting  Model Results')\n",
    "\n",
    "plt.show()    "
   ]
  },
  {
   "cell_type": "code",
   "execution_count": null,
   "metadata": {},
   "outputs": [
    {
     "name": "stdout",
     "output_type": "stream",
     "text": [
      "Cross-Validation Scores: [0.91780822 0.92465753 0.88013699 0.87671233 0.88013699]\n",
      "Average Cross-Validation score : 0.8958904109589041\n",
      "Hasil K-fold Cross-Validation: [0.90753425 0.90068493 0.86643836 0.87328767 0.89726027]\n",
      "Rata-rata Akurasi KFold: 0.8890410958904111\n"
     ]
    }
   ],
   "source": [
    "#cross validation test\n",
    "scores = cross_val_score(gb, X, y, cv=5)\n",
    "print(\"Cross-Validation Scores:\", scores)\n",
    "print(\"Average Cross-Validation score :\", np.mean(scores))\n",
    "\n",
    "#KFold validation test\n",
    "num_folds = 5\n",
    "kfold = KFold(n_splits=num_folds, shuffle=True, random_state=42)\n",
    "\n",
    "results = cross_val_score(gb, X, y, cv=kfold)\n",
    "\n",
    "\n",
    "print(f'Hasil K-fold Cross-Validation: {results}')\n",
    "print(f'Rata-rata Akurasi KFold: {results.mean()}')\n",
    "\n"
   ]
  },
  {
   "cell_type": "markdown",
   "metadata": {},
   "source": [
    "## 5. Melakukan prosedur Decision Tree dan menghitung akurasi"
   ]
  },
  {
   "cell_type": "code",
   "execution_count": null,
   "metadata": {},
   "outputs": [
    {
     "name": "stdout",
     "output_type": "stream",
     "text": [
      "     0    1\n",
      "0  200   33\n",
      "1   26  179\n"
     ]
    }
   ],
   "source": [
    "#Menentukan variabel X dan Y\n",
    "to_drop = [\"Category\", \"SalePrice\"]\n",
    "X = df.drop(columns=to_drop, axis=1)\n",
    "y = df[\"Category\"]\n",
    "\n",
    "#membagi data training dan test\n",
    "X_train,X_test,y_train,y_test = train_test_split(X, y, test_size=0.3, random_state=42)\n",
    "\n",
    "dt = DecisionTreeClassifier()\n",
    "dt.fit(X_train,y_train)\n",
    "\n",
    "y_pred = dt.predict(X_test)\n",
    "\n",
    "#Menggambar confusion matrix\n",
    "conmat = confusion_matrix(y_test, y_pred)\n",
    "\n",
    "value = np.mat(conmat)\n",
    "classname = list(set(y_train))\n",
    "df_cm = pd.DataFrame( value, index=classname, columns=classname)\n",
    "\n",
    "print(df_cm)\n"
   ]
  },
  {
   "cell_type": "code",
   "execution_count": null,
   "metadata": {},
   "outputs": [
    {
     "name": "stdout",
     "output_type": "stream",
     "text": [
      "Accuracy: 0.865296803652968\n",
      "Precision: 0.8443396226415094\n",
      "Recall (Sensitivity): 0.8731707317073171\n",
      "F1-Score: 0.8585131894484412\n",
      "False Positive Rate (FPR): [0.        0.1416309 1.       ]\n",
      "False Negative Rate (Specificity): [1.        0.8583691 0.       ]\n"
     ]
    }
   ],
   "source": [
    "# Menghitung akurasi\n",
    "accuracy = accuracy_score(y_test, y_pred)\n",
    "precision = precision_score(y_test, y_pred, average='binary')  # or 'macro' for multiclass\n",
    "recall = recall_score(y_test, y_pred, average='binary')  # or 'macro' for multiclass\n",
    "f1 = f1_score(y_test, y_pred, average='binary')  # or 'macro' for multiclass\n",
    "\n",
    "fpr, tpr, thresholds = roc_curve(y_test, y_pred, pos_label=1)\n",
    "\n",
    "print(f\"Accuracy: {accuracy}\")\n",
    "print(f\"Precision: {precision}\")\n",
    "print(f\"Recall (Sensitivity): {recall}\")\n",
    "print(f\"F1-Score: {f1}\")\n",
    "print(f\"False Positive Rate (FPR): {fpr}\")\n",
    "print(f\"False Negative Rate (Specificity): {1-fpr}\")\n"
   ]
  },
  {
   "cell_type": "code",
   "execution_count": null,
   "metadata": {},
   "outputs": [
    {
     "data": {
      "image/png": "[encoded data removed]",
      "text/plain": [
       "<Figure size 640x480 with 2 Axes>"
      ]
     },
     "metadata": {},
     "output_type": "display_data"
    }
   ],
   "source": [
    "#Plotting confusion matrix\n",
    "plt.figure()\n",
    "\n",
    "heatmap = sns.heatmap(df_cm, annot=True, cmap=\"Blues\", fmt = ' .0f')\n",
    "heatmap.yaxis.set_ticklabels(heatmap.yaxis.get_ticklabels(), rotation=0, ha='right')\n",
    "heatmap.xaxis.set_ticklabels(heatmap.xaxis.get_ticklabels(), rotation=45, ha='right')\n",
    "\n",
    "plt.ylabel('True label')\n",
    "plt.xlabel('Predicted label') \n",
    "plt.title('SalePrice Decision Tree Model Results')\n",
    "\n",
    "plt.show()    \n"
   ]
  },
  {
   "cell_type": "code",
   "execution_count": null,
   "metadata": {},
   "outputs": [
    {
     "name": "stdout",
     "output_type": "stream",
     "text": [
      "Cross-Validation Scores: [0.85958904 0.8869863  0.81506849 0.82876712 0.84589041]\n",
      "Average Cross-Validation score : 0.8472602739726028\n",
      "Hasil K-fold Cross-Validation: [0.8869863  0.89726027 0.84589041 0.85958904 0.85616438]\n",
      "Rata-rata Akurasi KFold: 0.8691780821917808\n"
     ]
    }
   ],
   "source": [
    "#cross validation test\n",
    "scores = cross_val_score(dt, X, y, cv=5)\n",
    "print(\"Cross-Validation Scores:\", scores)\n",
    "print(\"Average Cross-Validation score :\", np.mean(scores))\n",
    "\n",
    "#kfold cross validation test\n",
    "num_folds = 5\n",
    "kfold = KFold(n_splits=num_folds, shuffle=True, random_state=42)\n",
    "\n",
    "results = cross_val_score(dt, X, y, cv=kfold)\n",
    "\n",
    "\n",
    "print(f'Hasil K-fold Cross-Validation: {results}')\n",
    "print(f'Rata-rata Akurasi KFold: {results.mean()}')\n",
    "\n"
   ]
  }
 ],
 "metadata": {
  "kernelspec": {
   "display_name": "Python 3 (ipykernel)",
   "language": "python",
   "name": "python3"
  },
  "language_info": {
   "codemirror_mode": {
    "name": "ipython",
    "version": 3
   },
   "file_extension": ".py",
   "mimetype": "text/x-python",
   "name": "python",
   "nbconvert_exporter": "python",
   "pygments_lexer": "ipython3",
   "version": "3.11.3"
  }
 },
 "nbformat": 4,
 "nbformat_minor": 2
}
